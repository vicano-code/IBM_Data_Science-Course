{
    "cells": [
        {
            "cell_type": "code",
            "execution_count": null,
            "metadata": {},
            "outputs": [
                {
                    "name": "stdout",
                    "output_type": "stream",
                    "text": "Dash is running on http://127.0.0.1:8050/\n\n * Serving Flask app \"__main__\" (lazy loading)\n * Environment: production\n   WARNING: This is a development server. Do not use it in a production deployment.\n   Use a production WSGI server instead.\n * Debug mode: off\n"
                },
                {
                    "name": "stderr",
                    "output_type": "stream",
                    "text": " * Running on http://127.0.0.1:8050/ (Press CTRL+C to quit)\n127.0.0.1 - - [18/Oct/2021 14:00:38] \"GET / HTTP/1.1\" 200 -\n127.0.0.1 - - [18/Oct/2021 14:00:38] \"GET /_dash-component-suites/dash/deps/react@16.v2_0_0m1631008866.14.0.min.js HTTP/1.1\" 200 -\n127.0.0.1 - - [18/Oct/2021 14:00:38] \"GET /_dash-component-suites/dash/deps/react-dom@16.v2_0_0m1631008866.14.0.min.js HTTP/1.1\" 200 -\n127.0.0.1 - - [18/Oct/2021 14:00:38] \"GET /_dash-component-suites/dash/deps/polyfill@7.v2_0_0m1631008866.12.1.min.js HTTP/1.1\" 200 -\n127.0.0.1 - - [18/Oct/2021 14:00:38] \"GET /_dash-component-suites/dash/deps/prop-types@15.v2_0_0m1631008866.7.2.min.js HTTP/1.1\" 200 -\n127.0.0.1 - - [18/Oct/2021 14:00:38] \"GET /_dash-component-suites/dash/dcc/dash_core_components-shared.v2_0_0m1631008866.js HTTP/1.1\" 200 -\n127.0.0.1 - - [18/Oct/2021 14:00:38] \"GET /_dash-component-suites/dash/dcc/dash_core_components.v2_0_0m1631008866.js HTTP/1.1\" 200 -\n127.0.0.1 - - [18/Oct/2021 14:00:38] \"GET /_dash-component-suites/dash/dash-renderer/build/dash_renderer.v2_0_0m1631008865.min.js HTTP/1.1\" 200 -\n127.0.0.1 - - [18/Oct/2021 14:00:38] \"GET /_dash-component-suites/dash/html/dash_html_components.v2_0_0m1631008866.min.js HTTP/1.1\" 200 -\n127.0.0.1 - - [18/Oct/2021 14:00:38] \"GET /_dash-component-suites/dash/dash_table/bundle.v5_0_0m1631008865.js HTTP/1.1\" 200 -\n127.0.0.1 - - [18/Oct/2021 14:00:40] \"GET /_dash-layout HTTP/1.1\" 200 -\n127.0.0.1 - - [18/Oct/2021 14:00:40] \"GET /_dash-dependencies HTTP/1.1\" 200 -\n127.0.0.1 - - [18/Oct/2021 14:00:40] \"GET /_favicon.ico?v=2.0.0 HTTP/1.1\" 200 -\n127.0.0.1 - - [18/Oct/2021 14:00:40] \"GET /_dash-component-suites/dash/dcc/async-dropdown.js HTTP/1.1\" 200 -\n127.0.0.1 - - [18/Oct/2021 14:00:40] \"GET /_dash-component-suites/dash/dcc/async-slider.js HTTP/1.1\" 200 -\n127.0.0.1 - - [18/Oct/2021 14:00:40] \"GET /_dash-component-suites/dash/dcc/async-plotlyjs.js HTTP/1.1\" 200 -\n127.0.0.1 - - [18/Oct/2021 14:00:40] \"GET /_dash-component-suites/dash/dcc/async-graph.js HTTP/1.1\" 200 -\n127.0.0.1 - - [18/Oct/2021 14:01:09] \"POST /_dash-update-component HTTP/1.1\" 200 -\n127.0.0.1 - - [18/Oct/2021 14:01:09] \"POST /_dash-update-component HTTP/1.1\" 200 -\n127.0.0.1 - - [18/Oct/2021 14:01:21] \"POST /_dash-update-component HTTP/1.1\" 200 -\n127.0.0.1 - - [18/Oct/2021 14:01:21] \"POST /_dash-update-component HTTP/1.1\" 200 -\n127.0.0.1 - - [18/Oct/2021 14:01:29] \"POST /_dash-update-component HTTP/1.1\" 200 -\n127.0.0.1 - - [18/Oct/2021 14:01:30] \"POST /_dash-update-component HTTP/1.1\" 200 -\n"
                }
            ],
            "source": "# Import required libraries\nimport pandas as pd\nimport dash\n#import dash_html_components as html\nfrom dash import html\n#import dash_core_components as dcc\nfrom dash import dcc\nfrom dash.dependencies import Input, Output\nimport plotly.express as px\n\n# Read the airline data into pandas dataframe\nspacex_df = pd.read_csv(\"spacex_launch_dash.csv\")\nmax_payload = spacex_df['Payload Mass (kg)'].max()\nmin_payload = spacex_df['Payload Mass (kg)'].min()\n\n# Create a dash application\napp = dash.Dash(__name__)\n\n# Create an app layout\napp.layout = html.Div(children=[html.H1('SpaceX Launch Records Dashboard',\n                                        style={'textAlign': 'center', 'color': '#503D36',\n                                               'font-size': 40}),\n                                # TASK 1: Add a dropdown list to enable Launch Site selection\n                                # The default select value is for ALL sites\n                                # dcc.Dropdown(id='site-dropdown',...)\n                                dcc.Dropdown(id='site-dropdown', options=[{'label':'All Sites','value':'ALL'},{'label':'CCAFS LC-40','value':'CCAFS LC-40'},{'label':'CCAFS SLC-40','value':'CCAFS SLC-40'},{'label':'KSC LC-39A','value':'KSC LC-39A'},{'label':'VAFB SLC-4E','value':'VAFB SLC-4E'}],value='ALL', placeholder='Select a Launch Site here', searchable=True),\n                                html.Br(),\n\n                                html.Br(),\n\n                                # TASK 2: Add a pie chart to show the total successful launches count for all sites\n                                # If a specific launch site was selected, show the Success vs. Failed counts for the site\n                                html.Div(dcc.Graph(id='success-pie-chart')),\n                                html.Br(),\n\n                                html.P(\"Payload range (Kg):\"),\n                                # TASK 3: Add a slider to select payload range\n                                #dcc.RangeSlider(id='payload-slider',...)\n                                dcc.RangeSlider(id='payload-slider', min=0, max=10000, step=1000, marks={0: '0', 100: '100'}, value=[0, 10000]),\n                                # TASK 4: Add a scatter chart to show the correlation between payload and launch success\n                                html.Div(dcc.Graph(id='success-payload-scatter-chart'))\n                                ])\n\n# TASK 2:\n# Add a callback function for `site-dropdown` as input, `success-pie-chart` as output\n@app.callback(Output(component_id='success-pie-chart', component_property='figure'),\n            Input(component_id='site-dropdown', component_property='value'))       \n\ndef get_pie_chart(entered_site):\n    filtered_df = spacex_df.groupby('Launch Site')['class'].mean().reset_index()\n    if entered_site == 'ALL':\n        fig = px.pie(filtered_df, values='class', names='Launch Site', title='Total Success Launches by Site')\n        return fig\n    else:\n        new_data = spacex_df[spacex_df['Launch Site']==str(entered_site)]['class'].value_counts().reset_index().rename(columns={'index':'class','class':'Count'})\n        fig = px.pie(new_data, values='Count', names='class', title='Total Success Launches for ' + str(entered_site))\n        return fig\n    \n# TASK 4:\n# Add a callback function for `site-dropdown` and `payload-slider` as inputs, `success-payload-scatter-chart` as output\n@app.callback(Output(component_id='success-payload-scatter-chart', component_property='figure'), Input(component_id='site-dropdown', component_property='value'), Input(component_id='payload-slider', component_property='value'))\n\ndef get_scatter_plot(entered_site,value):\n    if entered_site == 'ALL':\n        fig = px.scatter(spacex_df, x='Payload Mass (kg)', y='class', color='Booster Version Category',title=\"Correlation between payload and success for all sites\")\n        return fig\n    else:\n        filtered_df2 = spacex_df[spacex_df['Launch Site']==str(entered_site)]\n        fig = px.scatter(filtered_df2, x='Payload Mass (kg)', y='class', color='Booster Version Category',title=\"Correlation between payload and success for \"+entered_site)\n        return fig\n\n# Run the app\nif __name__ == '__main__':\n    app.run_server()\n\n"
        },
        {
            "cell_type": "code",
            "execution_count": null,
            "metadata": {},
            "outputs": [],
            "source": ""
        }
    ],
    "metadata": {
        "kernelspec": {
            "display_name": "Python 3.8",
            "language": "python",
            "name": "python3"
        },
        "language_info": {
            "codemirror_mode": {
                "name": "ipython",
                "version": 3
            },
            "file_extension": ".py",
            "mimetype": "text/x-python",
            "name": "python",
            "nbconvert_exporter": "python",
            "pygments_lexer": "ipython3",
            "version": "3.8.11"
        }
    },
    "nbformat": 4,
    "nbformat_minor": 2
}